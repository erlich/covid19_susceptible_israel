{
 "cells": [
  {
   "cell_type": "markdown",
   "metadata": {},
   "source": [
    "## Preamble"
   ]
  },
  {
   "cell_type": "code",
   "execution_count": null,
   "metadata": {},
   "outputs": [],
   "source": [
    "import pandas as pd\n",
    "import numpy as np\n",
    "import logging\n",
    "from collections import defaultdict\n",
    "from tqdm.notebook import tqdm\n",
    "import matplotlib.pyplot as plt\n",
    "from statsmodels.tsa.holtwinters import SimpleExpSmoothing\n",
    "import matplotlib.ticker as ticker\n",
    "pd.options.display.max_rows = 30\n",
    "logger = logging.getLogger()\n",
    "\n",
    "import datetime as dt\n",
    "import matplotlib.dates as mdates\n"
   ]
  },
  {
   "cell_type": "code",
   "execution_count": null,
   "metadata": {},
   "outputs": [],
   "source": [
    "class StopExecution(Exception):\n",
    "    def _render_traceback_(self):\n",
    "        pass"
   ]
  },
  {
   "cell_type": "markdown",
   "metadata": {},
   "source": [
    "## Reading and processing the \"r\" file"
   ]
  },
  {
   "cell_type": "code",
   "execution_count": null,
   "metadata": {},
   "outputs": [],
   "source": [
    "r = pd.read_excel('./r.xlsx', skiprows=[0])\n",
    "r.columns = ['date', 'r']\n",
    "ins1 = SimpleExpSmoothing(r['r']).fit(smoothing_level=0.05,optimized=False)\n",
    "r['r_smoothed'] = ins1.fittedvalues\n",
    "display(r)"
   ]
  },
  {
   "cell_type": "markdown",
   "metadata": {},
   "source": [
    "## Reading and processing the number of vaccinated"
   ]
  },
  {
   "cell_type": "code",
   "execution_count": null,
   "metadata": {},
   "outputs": [],
   "source": [
    "df_vax = pd.read_excel('./vax.xlsx', skiprows=[0])\n",
    "df_vax.columns = ['date', 'vax1', 'vax2', 'vax3']\n",
    "df_vax['daily_gain'] = df_vax['vax2'].diff()\n",
    "df_vax['daily_gain3'] = df_vax['vax3'].diff()\n",
    "display(df_vax)\n"
   ]
  },
  {
   "cell_type": "markdown",
   "metadata": {},
   "source": [
    "## Reading and processing the numebr of daily cases"
   ]
  },
  {
   "cell_type": "code",
   "execution_count": null,
   "metadata": {},
   "outputs": [],
   "source": [
    "df_cases = pd.read_excel('./cases.xlsx', skiprows=[0])\n",
    "df_cases.columns = ['date', 'age_group', 'vax3_pos', 'vax2_pos', 'vax0_pos', 'cases_vax3_norm', 'cases_vax2_norm', 'cases_vax0_norm']\n",
    "df_cases = df_cases[df_cases['age_group'] == 'כלל האוכלוסיה']\n",
    "display(df_cases)\n"
   ]
  },
  {
   "cell_type": "markdown",
   "metadata": {},
   "source": [
    "## Calculating the crude VE using the daily cases"
   ]
  },
  {
   "cell_type": "code",
   "execution_count": null,
   "metadata": {},
   "outputs": [],
   "source": [
    "def crude_ve(df_cases):\n",
    "    df_cases['ve_dose2'] = 1 - (df_cases['cases_vax2_norm'] / df_cases['cases_vax0_norm'])\n",
    "    df_cases['ve_dose3'] = 1 - (df_cases['cases_vax3_norm'] / df_cases['cases_vax0_norm'])\n",
    "    df_cases['ve_dose3_2'] = 1 - (df_cases['cases_vax3_norm'] / df_cases['cases_vax2_norm'])\n",
    "    \n",
    "    return df_cases\n",
    "\n",
    "df_cases = crude_ve(df_cases)\n",
    "display(df_cases)"
   ]
  },
  {
   "cell_type": "markdown",
   "metadata": {},
   "source": [
    "## merging all files together"
   ]
  },
  {
   "cell_type": "code",
   "execution_count": null,
   "metadata": {},
   "outputs": [],
   "source": [
    "df_all = pd.merge(df_vax, df_cases, \"inner\", on='date')\n",
    "df_all = pd.merge(df_all, r, \"left\", on='date') #left merge to avoid cutting new dates before R calculation\n",
    "df_all['date'] = pd.to_datetime(df_all['date'], format='%d-%m-%Y')\n",
    "display(df_all)"
   ]
  },
  {
   "cell_type": "markdown",
   "metadata": {},
   "source": [
    "## Plotting the VE of dose 2 for santity check"
   ]
  },
  {
   "cell_type": "code",
   "execution_count": null,
   "metadata": {},
   "outputs": [],
   "source": [
    "fig, axs = plt.subplots(nrows = 1, ncols = 1, figsize = (7,5))\n",
    "\n",
    "data = df_all['ve_dose2']\n",
    "ins1 = SimpleExpSmoothing(data).fit(smoothing_level=0.05,optimized=False)\n",
    "smoothed = ins1.fittedvalues\n",
    "axs.plot(df_all['date'], smoothed, linewidth=5)\n",
    "axs.xaxis.set_major_locator(ticker.MultipleLocator(14))\n",
    "axs.set_ylabel(r'Crude VE (smoothed)', fontsize=20)\n",
    "\n",
    "\n",
    "for tick in axs.get_xticklabels():\n",
    "    tick.set_rotation(90)\n",
    "    \n",
    "axs.grid()\n"
   ]
  },
  {
   "cell_type": "markdown",
   "metadata": {},
   "source": [
    "## The main figures"
   ]
  },
  {
   "cell_type": "code",
   "execution_count": null,
   "metadata": {},
   "outputs": [],
   "source": [
    "data = df_all['ve_dose3']\n",
    "ins1 = SimpleExpSmoothing(data).fit(smoothing_level=0.05,optimized=False)\n",
    "smoothed_ve3 = ins1.fittedvalues\n",
    "\n",
    "data = df_all['ve_dose2']\n",
    "ins1 = SimpleExpSmoothing(data).fit(smoothing_level=0.05,optimized=False)\n",
    "smoothed_ve2 = ins1.fittedvalues\n",
    "\n",
    "\n",
    "fig, ax1 = plt.subplots(nrows = 1, ncols = 1, figsize = (7,5))\n",
    "isr_protection = \\\n",
    "                1 - \\\n",
    "                 (smoothed_ve2 * (df_all['vax2'] - df_all['vax3']) + \\\n",
    "                 smoothed_ve3 * df_all['vax3']) / (9.4 * 10 ** 6)\n",
    "\n",
    "ax1.plot(df_all['date'], isr_protection, color = 'black',  linewidth = 3)\n",
    "ax1.set_xlabel('Date')\n",
    "ax1.set_ylabel('Fraction of susceptible population', color='black', fontsize = 14)\n",
    "ax1.grid()"
   ]
  },
  {
   "cell_type": "code",
   "execution_count": null,
   "metadata": {},
   "outputs": [],
   "source": [
    "data = df_all['ve_dose3']\n",
    "ins1 = SimpleExpSmoothing(data).fit(smoothing_level=0.05,optimized=False)\n",
    "smoothed_ve3 = ins1.fittedvalues\n",
    "\n",
    "data = df_all['ve_dose2']\n",
    "ins1 = SimpleExpSmoothing(data).fit(smoothing_level=0.05,optimized=False)\n",
    "smoothed_ve2 = ins1.fittedvalues\n",
    "\n",
    "\n",
    "isr_protection = \\\n",
    "                1 - \\\n",
    "                 (smoothed_ve2 * (df_all['vax2'] - df_all['vax3']) + \\\n",
    "                 smoothed_ve3 * df_all['vax3']) / (9.4 * 10 ** 6)\n",
    "\n",
    "\n",
    "fig, ax1 = plt.subplots(nrows = 1, ncols = 1, figsize = (7,5))\n",
    "ax2 = ax1.twinx()\n",
    "\n",
    "ax1.plot(df_all['date'], isr_protection, color = 'black', linewidth = 5)\n",
    "ax2.plot(df_all['date'], df_all['r_smoothed'], color = 'red', linewidth = 3)\n",
    "\n",
    "ax1.set_xlabel('Date')\n",
    "ax1.set_ylabel('Fraction of susceptible population', color='black', fontsize = 14)\n",
    "ax2.set_ylabel('R(smoothed)', color='red', fontsize = 20)\n",
    "\n",
    "y0, y1 = ax1.get_ylim()\n",
    "x = dt.datetime(2021, 2, 15)\n",
    "ax1.vlines(x, y0, y1, linestyle = 'dashed', color = 'blue', linewidth = 0.75)\n",
    "ax1.set_ylim(y0,y1)\n",
    "ax1.text(x, y1*0.81, 'End of third lockdown', color = 'blue', rotation = 'vertical')\n",
    "\n",
    "y0, y1 = ax1.get_ylim()\n",
    "x = dt.datetime(2021, 6, 15)\n",
    "ax1.vlines(x, y0, y1, linestyle = 'dashed', color = 'blue', linewidth = 0.75)\n",
    "ax1.set_ylim(y0,y1)\n",
    "ax1.text(x, y1*0.7, 'End of restrictions', color = 'blue', rotation = 'vertical')\n",
    "\n",
    "\n",
    "y0, y1 = ax1.get_ylim()\n",
    "x = dt.datetime(2021, 7, 29)\n",
    "ax1.vlines(x, y0, y1, linestyle = 'dashed', color = 'blue', linewidth = 0.75)\n",
    "ax1.set_ylim(y0,y1)\n",
    "ax1.text(x, y1*0.7, 'Green passport', color = 'blue', rotation = 'vertical')\n",
    "\n",
    "\n",
    "\n",
    "\n",
    "#ax1.grid()\n",
    "\n",
    "[t.set_color('red') for t in ax2.yaxis.get_ticklines()]\n",
    "[t.set_color('red') for t in ax2.yaxis.get_ticklabels()]\n",
    "\n",
    "\n",
    "\n",
    "\n",
    "\n",
    "plt.show()\n",
    "\n",
    "\n",
    "\n",
    "\n",
    "\n",
    "\n",
    "\n",
    "\n",
    "\n",
    "\n"
   ]
  }
 ],
 "metadata": {
  "kernelspec": {
   "display_name": "Python 3",
   "language": "python",
   "name": "python3"
  },
  "language_info": {
   "codemirror_mode": {
    "name": "ipython",
    "version": 3
   },
   "file_extension": ".py",
   "mimetype": "text/x-python",
   "name": "python",
   "nbconvert_exporter": "python",
   "pygments_lexer": "ipython3",
   "version": "3.8.3"
  }
 },
 "nbformat": 4,
 "nbformat_minor": 4
}
